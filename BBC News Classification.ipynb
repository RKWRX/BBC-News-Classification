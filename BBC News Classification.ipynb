{
 "cells": [
  {
   "cell_type": "markdown",
   "id": "be8a268f",
   "metadata": {},
   "source": [
    "## BBC News Classification"
   ]
  },
  {
   "cell_type": "markdown",
   "id": "a752ccc7",
   "metadata": {},
   "source": [
    "We’ll use a public dataset from the BBC comprised of 2225 articles, each labeled under one of 5 categories: business, entertainment, politics, sport or tech.\n",
    "\n",
    "The dataset is broken into 1490 records for training and 735 for testing. The goal will be to build a system that can accurately classify previously unseen news articles into the right category.\n",
    "\n",
    "We will use matrix factorization to predict the category and apply Accuracy as a metric.\n",
    "\n",
    "The content of this project includes exploratory data analysis (EDA) procedure, model building and training, and comparison with supervised learning. "
   ]
  },
  {
   "cell_type": "markdown",
   "id": "20a1bea5",
   "metadata": {},
   "source": [
    "### 1. Exploratory Data Analysis (EDA)"
   ]
  },
  {
   "cell_type": "code",
   "execution_count": 81,
   "id": "388977cf",
   "metadata": {},
   "outputs": [],
   "source": [
    "import numpy as np\n",
    "import pandas as pd\n",
    "import seaborn as sns\n",
    "import matplotlib.pyplot as plt\n",
    "\n",
    "import re\n",
    "import nltk\n",
    "from nltk.corpus import stopwords\n",
    "from nltk.stem import WordNetLemmatizer\n",
    "from nltk.tokenize import word_tokenize\n",
    "\n",
    "from sklearn.feature_extraction.text import TfidfVectorizer\n",
    "from sklearn.decomposition import NMF\n",
    "from sklearn.decomposition import TruncatedSVD\n",
    "from sklearn.metrics import accuracy_score\n",
    "from sklearn.metrics import confusion_matrix\n",
    "from sklearn.linear_model import LogisticRegression\n",
    "from sklearn.ensemble import RandomForestClassifier\n",
    "\n",
    "import itertools"
   ]
  },
  {
   "cell_type": "code",
   "execution_count": 82,
   "id": "81d51331",
   "metadata": {},
   "outputs": [],
   "source": [
    "train = pd.read_csv('BBC News Train.csv')\n",
    "test = pd.read_csv('BBC News Test.csv')\n",
    "sample_solution = pd.read_csv('BBC News Sample Solution.csv')"
   ]
  },
  {
   "cell_type": "code",
   "execution_count": 83,
   "id": "026e56c8",
   "metadata": {},
   "outputs": [
    {
     "data": {
      "text/plain": [
       "(1490, 3)"
      ]
     },
     "execution_count": 83,
     "metadata": {},
     "output_type": "execute_result"
    }
   ],
   "source": [
    "train.shape"
   ]
  },
  {
   "cell_type": "code",
   "execution_count": 84,
   "id": "e1968e16",
   "metadata": {},
   "outputs": [
    {
     "data": {
      "text/html": [
       "<div>\n",
       "<style scoped>\n",
       "    .dataframe tbody tr th:only-of-type {\n",
       "        vertical-align: middle;\n",
       "    }\n",
       "\n",
       "    .dataframe tbody tr th {\n",
       "        vertical-align: top;\n",
       "    }\n",
       "\n",
       "    .dataframe thead th {\n",
       "        text-align: right;\n",
       "    }\n",
       "</style>\n",
       "<table border=\"1\" class=\"dataframe\">\n",
       "  <thead>\n",
       "    <tr style=\"text-align: right;\">\n",
       "      <th></th>\n",
       "      <th>ArticleId</th>\n",
       "      <th>Text</th>\n",
       "      <th>Category</th>\n",
       "    </tr>\n",
       "  </thead>\n",
       "  <tbody>\n",
       "    <tr>\n",
       "      <th>0</th>\n",
       "      <td>1833</td>\n",
       "      <td>worldcom ex-boss launches defence lawyers defe...</td>\n",
       "      <td>business</td>\n",
       "    </tr>\n",
       "    <tr>\n",
       "      <th>1</th>\n",
       "      <td>154</td>\n",
       "      <td>german business confidence slides german busin...</td>\n",
       "      <td>business</td>\n",
       "    </tr>\n",
       "    <tr>\n",
       "      <th>2</th>\n",
       "      <td>1101</td>\n",
       "      <td>bbc poll indicates economic gloom citizens in ...</td>\n",
       "      <td>business</td>\n",
       "    </tr>\n",
       "    <tr>\n",
       "      <th>3</th>\n",
       "      <td>1976</td>\n",
       "      <td>lifestyle  governs mobile choice  faster  bett...</td>\n",
       "      <td>tech</td>\n",
       "    </tr>\n",
       "    <tr>\n",
       "      <th>4</th>\n",
       "      <td>917</td>\n",
       "      <td>enron bosses in $168m payout eighteen former e...</td>\n",
       "      <td>business</td>\n",
       "    </tr>\n",
       "  </tbody>\n",
       "</table>\n",
       "</div>"
      ],
      "text/plain": [
       "   ArticleId                                               Text  Category\n",
       "0       1833  worldcom ex-boss launches defence lawyers defe...  business\n",
       "1        154  german business confidence slides german busin...  business\n",
       "2       1101  bbc poll indicates economic gloom citizens in ...  business\n",
       "3       1976  lifestyle  governs mobile choice  faster  bett...      tech\n",
       "4        917  enron bosses in $168m payout eighteen former e...  business"
      ]
     },
     "execution_count": 84,
     "metadata": {},
     "output_type": "execute_result"
    }
   ],
   "source": [
    "train.head()"
   ]
  },
  {
   "cell_type": "code",
   "execution_count": 85,
   "id": "fd4a279f",
   "metadata": {},
   "outputs": [
    {
     "name": "stdout",
     "output_type": "stream",
     "text": [
      "<class 'pandas.core.frame.DataFrame'>\n",
      "RangeIndex: 1490 entries, 0 to 1489\n",
      "Data columns (total 3 columns):\n",
      " #   Column     Non-Null Count  Dtype \n",
      "---  ------     --------------  ----- \n",
      " 0   ArticleId  1490 non-null   int64 \n",
      " 1   Text       1490 non-null   object\n",
      " 2   Category   1490 non-null   object\n",
      "dtypes: int64(1), object(2)\n",
      "memory usage: 35.1+ KB\n"
     ]
    }
   ],
   "source": [
    "train.info()"
   ]
  },
  {
   "cell_type": "code",
   "execution_count": 86,
   "id": "5c315421",
   "metadata": {},
   "outputs": [
    {
     "data": {
      "text/html": [
       "<div>\n",
       "<style scoped>\n",
       "    .dataframe tbody tr th:only-of-type {\n",
       "        vertical-align: middle;\n",
       "    }\n",
       "\n",
       "    .dataframe tbody tr th {\n",
       "        vertical-align: top;\n",
       "    }\n",
       "\n",
       "    .dataframe thead th {\n",
       "        text-align: right;\n",
       "    }\n",
       "</style>\n",
       "<table border=\"1\" class=\"dataframe\">\n",
       "  <thead>\n",
       "    <tr style=\"text-align: right;\">\n",
       "      <th></th>\n",
       "      <th>ArticleId</th>\n",
       "      <th>Text</th>\n",
       "    </tr>\n",
       "  </thead>\n",
       "  <tbody>\n",
       "    <tr>\n",
       "      <th>0</th>\n",
       "      <td>1018</td>\n",
       "      <td>qpr keeper day heads for preston queens park r...</td>\n",
       "    </tr>\n",
       "    <tr>\n",
       "      <th>1</th>\n",
       "      <td>1319</td>\n",
       "      <td>software watching while you work software that...</td>\n",
       "    </tr>\n",
       "    <tr>\n",
       "      <th>2</th>\n",
       "      <td>1138</td>\n",
       "      <td>d arcy injury adds to ireland woe gordon d arc...</td>\n",
       "    </tr>\n",
       "    <tr>\n",
       "      <th>3</th>\n",
       "      <td>459</td>\n",
       "      <td>india s reliance family feud heats up the ongo...</td>\n",
       "    </tr>\n",
       "    <tr>\n",
       "      <th>4</th>\n",
       "      <td>1020</td>\n",
       "      <td>boro suffer morrison injury blow middlesbrough...</td>\n",
       "    </tr>\n",
       "  </tbody>\n",
       "</table>\n",
       "</div>"
      ],
      "text/plain": [
       "   ArticleId                                               Text\n",
       "0       1018  qpr keeper day heads for preston queens park r...\n",
       "1       1319  software watching while you work software that...\n",
       "2       1138  d arcy injury adds to ireland woe gordon d arc...\n",
       "3        459  india s reliance family feud heats up the ongo...\n",
       "4       1020  boro suffer morrison injury blow middlesbrough..."
      ]
     },
     "execution_count": 86,
     "metadata": {},
     "output_type": "execute_result"
    }
   ],
   "source": [
    "test.head()"
   ]
  },
  {
   "cell_type": "code",
   "execution_count": 87,
   "id": "e43bfff0",
   "metadata": {},
   "outputs": [
    {
     "data": {
      "text/html": [
       "<div>\n",
       "<style scoped>\n",
       "    .dataframe tbody tr th:only-of-type {\n",
       "        vertical-align: middle;\n",
       "    }\n",
       "\n",
       "    .dataframe tbody tr th {\n",
       "        vertical-align: top;\n",
       "    }\n",
       "\n",
       "    .dataframe thead th {\n",
       "        text-align: right;\n",
       "    }\n",
       "</style>\n",
       "<table border=\"1\" class=\"dataframe\">\n",
       "  <thead>\n",
       "    <tr style=\"text-align: right;\">\n",
       "      <th></th>\n",
       "      <th>ArticleId</th>\n",
       "      <th>Category</th>\n",
       "    </tr>\n",
       "  </thead>\n",
       "  <tbody>\n",
       "    <tr>\n",
       "      <th>0</th>\n",
       "      <td>1018</td>\n",
       "      <td>sport</td>\n",
       "    </tr>\n",
       "    <tr>\n",
       "      <th>1</th>\n",
       "      <td>1319</td>\n",
       "      <td>tech</td>\n",
       "    </tr>\n",
       "    <tr>\n",
       "      <th>2</th>\n",
       "      <td>1138</td>\n",
       "      <td>business</td>\n",
       "    </tr>\n",
       "    <tr>\n",
       "      <th>3</th>\n",
       "      <td>459</td>\n",
       "      <td>entertainment</td>\n",
       "    </tr>\n",
       "    <tr>\n",
       "      <th>4</th>\n",
       "      <td>1020</td>\n",
       "      <td>politics</td>\n",
       "    </tr>\n",
       "  </tbody>\n",
       "</table>\n",
       "</div>"
      ],
      "text/plain": [
       "   ArticleId       Category\n",
       "0       1018          sport\n",
       "1       1319           tech\n",
       "2       1138       business\n",
       "3        459  entertainment\n",
       "4       1020       politics"
      ]
     },
     "execution_count": 87,
     "metadata": {},
     "output_type": "execute_result"
    }
   ],
   "source": [
    "sample_solution.head()"
   ]
  },
  {
   "cell_type": "code",
   "execution_count": 88,
   "id": "b2ab234e",
   "metadata": {},
   "outputs": [
    {
     "name": "stdout",
     "output_type": "stream",
     "text": [
      "Missing values in each column:\n",
      "ArticleId    0\n",
      "Text         0\n",
      "Category     0\n",
      "dtype: int64\n"
     ]
    }
   ],
   "source": [
    "# check for missing value in the train dataset\n",
    "missing_values = train.isnull().sum()\n",
    "# Display the count of missing values for each column\n",
    "print(\"Missing values in each column:\")\n",
    "print(missing_values)"
   ]
  },
  {
   "cell_type": "code",
   "execution_count": 89,
   "id": "e6c3343a",
   "metadata": {},
   "outputs": [
    {
     "name": "stdout",
     "output_type": "stream",
     "text": [
      "Number of unique values per column:\n",
      "ArticleId    1490\n",
      "Text         1440\n",
      "Category        5\n",
      "dtype: int64\n"
     ]
    }
   ],
   "source": [
    "# check for unique values in the train dataset\n",
    "unique_counts = train.nunique()\n",
    "print(\"Number of unique values per column:\")\n",
    "print(unique_counts)"
   ]
  },
  {
   "cell_type": "code",
   "execution_count": 90,
   "id": "69f56604",
   "metadata": {},
   "outputs": [
    {
     "data": {
      "text/plain": [
       "Text(0, 0.5, 'The Number of Documents')"
      ]
     },
     "execution_count": 90,
     "metadata": {},
     "output_type": "execute_result"
    },
    {
     "data": {
      "image/png": "[encoded data removed]",
      "text/plain": [
       "<Figure size 640x480 with 1 Axes>"
      ]
     },
     "metadata": {},
     "output_type": "display_data"
    }
   ],
   "source": [
    "# Group by category\n",
    "by_cat_count = train.groupby('Category')['ArticleId'].count()\n",
    "by_cat_count.plot.bar(ylim=0)\n",
    "plt.ylabel('The Number of Documents')"
   ]
  },
  {
   "cell_type": "code",
   "execution_count": 91,
   "id": "a7cc325c",
   "metadata": {},
   "outputs": [
    {
     "data": {
      "text/plain": [
       "'worldcom ex-boss launches defence lawyers defending former worldcom chief bernie ebbers against a battery of fraud charges have called a company whistleblower as their first witness.  cynthia cooper  worldcom s ex-head of internal accounting  alerted directors to irregular accounting practices at the us telecoms giant in 2002. her warnings led to the collapse of the firm following the discovery of an $11bn (£5.7bn) accounting fraud. mr ebbers has pleaded not guilty to charges of fraud and conspiracy.  prosecution lawyers have argued that mr ebbers orchestrated a series of accounting tricks at worldcom  ordering employees to hide expenses and inflate revenues to meet wall street earnings estimates. but ms cooper  who now runs her own consulting business  told a jury in new york on wednesday that external auditors arthur andersen had approved worldcom s accounting in early 2001 and 2002. she said andersen had given a  green light  to the procedures and practices used by worldcom. mr ebber s lawyers have said he was unaware of the fraud  arguing that auditors did not alert him to any problems.  ms cooper also said that during shareholder meetings mr ebbers often passed over technical questions to the company s finance chief  giving only  brief  answers himself. the prosecution s star witness  former worldcom financial chief scott sullivan  has said that mr ebbers ordered accounting adjustments at the firm  telling him to  hit our books . however  ms cooper said mr sullivan had not mentioned  anything uncomfortable  about worldcom s accounting during a 2001 audit committee meeting. mr ebbers could face a jail sentence of 85 years if convicted of all the charges he is facing. worldcom emerged from bankruptcy protection in 2004  and is now known as mci. last week  mci agreed to a buyout by verizon communications in a deal valued at $6.75bn.'"
      ]
     },
     "execution_count": 91,
     "metadata": {},
     "output_type": "execute_result"
    }
   ],
   "source": [
    "train.Text[0]"
   ]
  },
  {
   "cell_type": "code",
   "execution_count": 92,
   "id": "eacba793",
   "metadata": {},
   "outputs": [],
   "source": [
    "# Text processing removing punctuations, numbers and stopwords\n",
    "# reference https://www.kaggle.com/code/mattison/unsupervised-matrix-factorization?scriptVersionId=99448419&cellId=19\n",
    "def clean_text(dataframe, text_col):\n",
    "    '''\n",
    "    A helper function which takes a dataframe \n",
    "    and removes punction and stopwords.\n",
    "    '''\n",
    "    #remove all punctuation\n",
    "    dataframe['no_punct'] = dataframe[text_col].apply(lambda row: re.sub(r'[^\\w\\s]+', '', row))\n",
    "    \n",
    "    #remove numbers \n",
    "    dataframe['no_punct_num'] = dataframe['no_punct'].apply(lambda row: re.sub(r'[0-9]+', '', row))\n",
    "    \n",
    "    #remove stopwords\n",
    "    stop_words = stopwords.words('english')\n",
    "    dataframe['no_stopwords'] = dataframe['no_punct_num'].apply(lambda x: ' '.join([word for word in x.split() if word not in (stop_words)]))\n",
    "    \n",
    "    #remove extra spaces\n",
    "    dataframe['clean_text'] = dataframe['no_stopwords'].apply(lambda x: re.sub(' +', ' ', x))\n",
    "    return "
   ]
  },
  {
   "cell_type": "code",
   "execution_count": 93,
   "id": "9323226c",
   "metadata": {},
   "outputs": [],
   "source": [
    "clean_text(train, 'Text')"
   ]
  },
  {
   "cell_type": "code",
   "execution_count": 94,
   "id": "ee444a1a",
   "metadata": {},
   "outputs": [
    {
     "data": {
      "text/plain": [
       "'worldcom exboss launches defence lawyers defending former worldcom chief bernie ebbers battery fraud charges called company whistleblower first witness cynthia cooper worldcom exhead internal accounting alerted directors irregular accounting practices us telecoms giant warnings led collapse firm following discovery bn bn accounting fraud mr ebbers pleaded guilty charges fraud conspiracy prosecution lawyers argued mr ebbers orchestrated series accounting tricks worldcom ordering employees hide expenses inflate revenues meet wall street earnings estimates ms cooper runs consulting business told jury new york wednesday external auditors arthur andersen approved worldcom accounting early said andersen given green light procedures practices used worldcom mr ebber lawyers said unaware fraud arguing auditors alert problems ms cooper also said shareholder meetings mr ebbers often passed technical questions company finance chief giving brief answers prosecution star witness former worldcom financial chief scott sullivan said mr ebbers ordered accounting adjustments firm telling hit books however ms cooper said mr sullivan mentioned anything uncomfortable worldcom accounting audit committee meeting mr ebbers could face jail sentence years convicted charges facing worldcom emerged bankruptcy protection known mci last week mci agreed buyout verizon communications deal valued bn'"
      ]
     },
     "execution_count": 94,
     "metadata": {},
     "output_type": "execute_result"
    }
   ],
   "source": [
    "train['clean_text'][0]"
   ]
  },
  {
   "cell_type": "code",
   "execution_count": 95,
   "id": "973fa37d",
   "metadata": {},
   "outputs": [
    {
     "data": {
      "text/html": [
       "<div>\n",
       "<style scoped>\n",
       "    .dataframe tbody tr th:only-of-type {\n",
       "        vertical-align: middle;\n",
       "    }\n",
       "\n",
       "    .dataframe tbody tr th {\n",
       "        vertical-align: top;\n",
       "    }\n",
       "\n",
       "    .dataframe thead th {\n",
       "        text-align: right;\n",
       "    }\n",
       "</style>\n",
       "<table border=\"1\" class=\"dataframe\">\n",
       "  <thead>\n",
       "    <tr style=\"text-align: right;\">\n",
       "      <th></th>\n",
       "      <th>ArticleId</th>\n",
       "      <th>Text</th>\n",
       "      <th>Category</th>\n",
       "      <th>no_punct</th>\n",
       "      <th>no_punct_num</th>\n",
       "      <th>no_stopwords</th>\n",
       "      <th>clean_text</th>\n",
       "    </tr>\n",
       "  </thead>\n",
       "  <tbody>\n",
       "    <tr>\n",
       "      <th>0</th>\n",
       "      <td>1833</td>\n",
       "      <td>worldcom ex-boss launches defence lawyers defe...</td>\n",
       "      <td>business</td>\n",
       "      <td>worldcom exboss launches defence lawyers defen...</td>\n",
       "      <td>worldcom exboss launches defence lawyers defen...</td>\n",
       "      <td>worldcom exboss launches defence lawyers defen...</td>\n",
       "      <td>worldcom exboss launches defence lawyers defen...</td>\n",
       "    </tr>\n",
       "    <tr>\n",
       "      <th>1</th>\n",
       "      <td>154</td>\n",
       "      <td>german business confidence slides german busin...</td>\n",
       "      <td>business</td>\n",
       "      <td>german business confidence slides german busin...</td>\n",
       "      <td>german business confidence slides german busin...</td>\n",
       "      <td>german business confidence slides german busin...</td>\n",
       "      <td>german business confidence slides german busin...</td>\n",
       "    </tr>\n",
       "    <tr>\n",
       "      <th>2</th>\n",
       "      <td>1101</td>\n",
       "      <td>bbc poll indicates economic gloom citizens in ...</td>\n",
       "      <td>business</td>\n",
       "      <td>bbc poll indicates economic gloom citizens in ...</td>\n",
       "      <td>bbc poll indicates economic gloom citizens in ...</td>\n",
       "      <td>bbc poll indicates economic gloom citizens maj...</td>\n",
       "      <td>bbc poll indicates economic gloom citizens maj...</td>\n",
       "    </tr>\n",
       "    <tr>\n",
       "      <th>3</th>\n",
       "      <td>1976</td>\n",
       "      <td>lifestyle  governs mobile choice  faster  bett...</td>\n",
       "      <td>tech</td>\n",
       "      <td>lifestyle  governs mobile choice  faster  bett...</td>\n",
       "      <td>lifestyle  governs mobile choice  faster  bett...</td>\n",
       "      <td>lifestyle governs mobile choice faster better ...</td>\n",
       "      <td>lifestyle governs mobile choice faster better ...</td>\n",
       "    </tr>\n",
       "    <tr>\n",
       "      <th>4</th>\n",
       "      <td>917</td>\n",
       "      <td>enron bosses in $168m payout eighteen former e...</td>\n",
       "      <td>business</td>\n",
       "      <td>enron bosses in 168m payout eighteen former en...</td>\n",
       "      <td>enron bosses in m payout eighteen former enron...</td>\n",
       "      <td>enron bosses payout eighteen former enron dire...</td>\n",
       "      <td>enron bosses payout eighteen former enron dire...</td>\n",
       "    </tr>\n",
       "  </tbody>\n",
       "</table>\n",
       "</div>"
      ],
      "text/plain": [
       "   ArticleId                                               Text  Category  \\\n",
       "0       1833  worldcom ex-boss launches defence lawyers defe...  business   \n",
       "1        154  german business confidence slides german busin...  business   \n",
       "2       1101  bbc poll indicates economic gloom citizens in ...  business   \n",
       "3       1976  lifestyle  governs mobile choice  faster  bett...      tech   \n",
       "4        917  enron bosses in $168m payout eighteen former e...  business   \n",
       "\n",
       "                                            no_punct  \\\n",
       "0  worldcom exboss launches defence lawyers defen...   \n",
       "1  german business confidence slides german busin...   \n",
       "2  bbc poll indicates economic gloom citizens in ...   \n",
       "3  lifestyle  governs mobile choice  faster  bett...   \n",
       "4  enron bosses in 168m payout eighteen former en...   \n",
       "\n",
       "                                        no_punct_num  \\\n",
       "0  worldcom exboss launches defence lawyers defen...   \n",
       "1  german business confidence slides german busin...   \n",
       "2  bbc poll indicates economic gloom citizens in ...   \n",
       "3  lifestyle  governs mobile choice  faster  bett...   \n",
       "4  enron bosses in m payout eighteen former enron...   \n",
       "\n",
       "                                        no_stopwords  \\\n",
       "0  worldcom exboss launches defence lawyers defen...   \n",
       "1  german business confidence slides german busin...   \n",
       "2  bbc poll indicates economic gloom citizens maj...   \n",
       "3  lifestyle governs mobile choice faster better ...   \n",
       "4  enron bosses payout eighteen former enron dire...   \n",
       "\n",
       "                                          clean_text  \n",
       "0  worldcom exboss launches defence lawyers defen...  \n",
       "1  german business confidence slides german busin...  \n",
       "2  bbc poll indicates economic gloom citizens maj...  \n",
       "3  lifestyle governs mobile choice faster better ...  \n",
       "4  enron bosses payout eighteen former enron dire...  "
      ]
     },
     "execution_count": 95,
     "metadata": {},
     "output_type": "execute_result"
    }
   ],
   "source": [
    "train.head()"
   ]
  },
  {
   "cell_type": "markdown",
   "id": "23d38b05",
   "metadata": {},
   "source": [
    "Use lemmatization seeks to distill words to their foundational forms"
   ]
  },
  {
   "cell_type": "code",
   "execution_count": 96,
   "id": "670f1a91",
   "metadata": {},
   "outputs": [
    {
     "name": "stderr",
     "output_type": "stream",
     "text": [
      "[nltk_data] Downloading package wordnet to\n",
      "[nltk_data]     C:\\Users\\Zhong\\AppData\\Roaming\\nltk_data...\n",
      "[nltk_data]   Package wordnet is already up-to-date!\n"
     ]
    }
   ],
   "source": [
    "def load_wordnet():\n",
    "    nltk.download('wordnet')\n",
    "    \n",
    "load_wordnet()\n",
    "\n",
    "# reference https://www.kaggle.com/code/mattison/unsupervised-matrix-factorization?scriptVersionId=99448419&cellId=23\n",
    "def lemmatizer(text):\n",
    "    ''' \n",
    "    A helper function to lemmatize an entire sentence/string\n",
    "    '''\n",
    "    lemmatizer = WordNetLemmatizer()\n",
    "    lemma = [lemmatizer.lemmatize(word.lower()) for word in text] \n",
    "    return lemma\n",
    "\n",
    "def tokenize_lemmatize(dataframe, text_col):\n",
    "    '''\n",
    "    A helper function to tokenize then lemmatize the string.\n",
    "    Also, add column which counts the number of words in that string.\n",
    "    '''\n",
    "    dataframe['tokenized'] = dataframe.apply(lambda row: nltk.word_tokenize(row[text_col]), axis=1)\n",
    "    dataframe['lemmatized'] = dataframe['tokenized'].apply(lambda string: lemmatizer(string))\n",
    "    dataframe['num_words'] = dataframe['lemmatized'].apply(lambda lst: len(lst))\n",
    "    return"
   ]
  },
  {
   "cell_type": "code",
   "execution_count": 97,
   "id": "0d116a87",
   "metadata": {},
   "outputs": [],
   "source": [
    "tokenize_lemmatize(train, 'clean_text')"
   ]
  },
  {
   "cell_type": "code",
   "execution_count": 98,
   "id": "e2ddd059",
   "metadata": {},
   "outputs": [
    {
     "data": {
      "text/html": [
       "<div>\n",
       "<style scoped>\n",
       "    .dataframe tbody tr th:only-of-type {\n",
       "        vertical-align: middle;\n",
       "    }\n",
       "\n",
       "    .dataframe tbody tr th {\n",
       "        vertical-align: top;\n",
       "    }\n",
       "\n",
       "    .dataframe thead th {\n",
       "        text-align: right;\n",
       "    }\n",
       "</style>\n",
       "<table border=\"1\" class=\"dataframe\">\n",
       "  <thead>\n",
       "    <tr style=\"text-align: right;\">\n",
       "      <th></th>\n",
       "      <th>ArticleId</th>\n",
       "      <th>Text</th>\n",
       "      <th>Category</th>\n",
       "      <th>no_punct</th>\n",
       "      <th>no_punct_num</th>\n",
       "      <th>no_stopwords</th>\n",
       "      <th>clean_text</th>\n",
       "      <th>tokenized</th>\n",
       "      <th>lemmatized</th>\n",
       "      <th>num_words</th>\n",
       "    </tr>\n",
       "  </thead>\n",
       "  <tbody>\n",
       "    <tr>\n",
       "      <th>0</th>\n",
       "      <td>1833</td>\n",
       "      <td>worldcom ex-boss launches defence lawyers defe...</td>\n",
       "      <td>business</td>\n",
       "      <td>worldcom exboss launches defence lawyers defen...</td>\n",
       "      <td>worldcom exboss launches defence lawyers defen...</td>\n",
       "      <td>worldcom exboss launches defence lawyers defen...</td>\n",
       "      <td>worldcom exboss launches defence lawyers defen...</td>\n",
       "      <td>[worldcom, exboss, launches, defence, lawyers,...</td>\n",
       "      <td>[worldcom, exboss, launch, defence, lawyer, de...</td>\n",
       "      <td>185</td>\n",
       "    </tr>\n",
       "    <tr>\n",
       "      <th>1</th>\n",
       "      <td>154</td>\n",
       "      <td>german business confidence slides german busin...</td>\n",
       "      <td>business</td>\n",
       "      <td>german business confidence slides german busin...</td>\n",
       "      <td>german business confidence slides german busin...</td>\n",
       "      <td>german business confidence slides german busin...</td>\n",
       "      <td>german business confidence slides german busin...</td>\n",
       "      <td>[german, business, confidence, slides, german,...</td>\n",
       "      <td>[german, business, confidence, slide, german, ...</td>\n",
       "      <td>194</td>\n",
       "    </tr>\n",
       "    <tr>\n",
       "      <th>2</th>\n",
       "      <td>1101</td>\n",
       "      <td>bbc poll indicates economic gloom citizens in ...</td>\n",
       "      <td>business</td>\n",
       "      <td>bbc poll indicates economic gloom citizens in ...</td>\n",
       "      <td>bbc poll indicates economic gloom citizens in ...</td>\n",
       "      <td>bbc poll indicates economic gloom citizens maj...</td>\n",
       "      <td>bbc poll indicates economic gloom citizens maj...</td>\n",
       "      <td>[bbc, poll, indicates, economic, gloom, citize...</td>\n",
       "      <td>[bbc, poll, indicates, economic, gloom, citize...</td>\n",
       "      <td>267</td>\n",
       "    </tr>\n",
       "    <tr>\n",
       "      <th>3</th>\n",
       "      <td>1976</td>\n",
       "      <td>lifestyle  governs mobile choice  faster  bett...</td>\n",
       "      <td>tech</td>\n",
       "      <td>lifestyle  governs mobile choice  faster  bett...</td>\n",
       "      <td>lifestyle  governs mobile choice  faster  bett...</td>\n",
       "      <td>lifestyle governs mobile choice faster better ...</td>\n",
       "      <td>lifestyle governs mobile choice faster better ...</td>\n",
       "      <td>[lifestyle, governs, mobile, choice, faster, b...</td>\n",
       "      <td>[lifestyle, governs, mobile, choice, faster, b...</td>\n",
       "      <td>344</td>\n",
       "    </tr>\n",
       "    <tr>\n",
       "      <th>4</th>\n",
       "      <td>917</td>\n",
       "      <td>enron bosses in $168m payout eighteen former e...</td>\n",
       "      <td>business</td>\n",
       "      <td>enron bosses in 168m payout eighteen former en...</td>\n",
       "      <td>enron bosses in m payout eighteen former enron...</td>\n",
       "      <td>enron bosses payout eighteen former enron dire...</td>\n",
       "      <td>enron bosses payout eighteen former enron dire...</td>\n",
       "      <td>[enron, bosses, payout, eighteen, former, enro...</td>\n",
       "      <td>[enron, boss, payout, eighteen, former, enron,...</td>\n",
       "      <td>198</td>\n",
       "    </tr>\n",
       "  </tbody>\n",
       "</table>\n",
       "</div>"
      ],
      "text/plain": [
       "   ArticleId                                               Text  Category  \\\n",
       "0       1833  worldcom ex-boss launches defence lawyers defe...  business   \n",
       "1        154  german business confidence slides german busin...  business   \n",
       "2       1101  bbc poll indicates economic gloom citizens in ...  business   \n",
       "3       1976  lifestyle  governs mobile choice  faster  bett...      tech   \n",
       "4        917  enron bosses in $168m payout eighteen former e...  business   \n",
       "\n",
       "                                            no_punct  \\\n",
       "0  worldcom exboss launches defence lawyers defen...   \n",
       "1  german business confidence slides german busin...   \n",
       "2  bbc poll indicates economic gloom citizens in ...   \n",
       "3  lifestyle  governs mobile choice  faster  bett...   \n",
       "4  enron bosses in 168m payout eighteen former en...   \n",
       "\n",
       "                                        no_punct_num  \\\n",
       "0  worldcom exboss launches defence lawyers defen...   \n",
       "1  german business confidence slides german busin...   \n",
       "2  bbc poll indicates economic gloom citizens in ...   \n",
       "3  lifestyle  governs mobile choice  faster  bett...   \n",
       "4  enron bosses in m payout eighteen former enron...   \n",
       "\n",
       "                                        no_stopwords  \\\n",
       "0  worldcom exboss launches defence lawyers defen...   \n",
       "1  german business confidence slides german busin...   \n",
       "2  bbc poll indicates economic gloom citizens maj...   \n",
       "3  lifestyle governs mobile choice faster better ...   \n",
       "4  enron bosses payout eighteen former enron dire...   \n",
       "\n",
       "                                          clean_text  \\\n",
       "0  worldcom exboss launches defence lawyers defen...   \n",
       "1  german business confidence slides german busin...   \n",
       "2  bbc poll indicates economic gloom citizens maj...   \n",
       "3  lifestyle governs mobile choice faster better ...   \n",
       "4  enron bosses payout eighteen former enron dire...   \n",
       "\n",
       "                                           tokenized  \\\n",
       "0  [worldcom, exboss, launches, defence, lawyers,...   \n",
       "1  [german, business, confidence, slides, german,...   \n",
       "2  [bbc, poll, indicates, economic, gloom, citize...   \n",
       "3  [lifestyle, governs, mobile, choice, faster, b...   \n",
       "4  [enron, bosses, payout, eighteen, former, enro...   \n",
       "\n",
       "                                          lemmatized  num_words  \n",
       "0  [worldcom, exboss, launch, defence, lawyer, de...        185  \n",
       "1  [german, business, confidence, slide, german, ...        194  \n",
       "2  [bbc, poll, indicates, economic, gloom, citize...        267  \n",
       "3  [lifestyle, governs, mobile, choice, faster, b...        344  \n",
       "4  [enron, boss, payout, eighteen, former, enron,...        198  "
      ]
     },
     "execution_count": 98,
     "metadata": {},
     "output_type": "execute_result"
    }
   ],
   "source": [
    "train.head()"
   ]
  },
  {
   "cell_type": "markdown",
   "id": "90570d27",
   "metadata": {},
   "source": [
    "Overview of number of words per category"
   ]
  },
  {
   "cell_type": "code",
   "execution_count": 99,
   "id": "40ef7274",
   "metadata": {},
   "outputs": [
    {
     "data": {
      "text/plain": [
       "[Text(0.5, 1.0, 'Number of Words Per Category')]"
      ]
     },
     "execution_count": 99,
     "metadata": {},
     "output_type": "execute_result"
    },
    {
     "data": {
      "image/png": "[encoded data removed]",
      "text/plain": [
       "<Figure size 1200x600 with 1 Axes>"
      ]
     },
     "metadata": {},
     "output_type": "display_data"
    }
   ],
   "source": [
    "plt.figure(figsize=(12, 6))\n",
    "sns.boxplot(data = train, x = 'num_words', y = 'Category', hue = 'Category', palette = 'deep'\n",
    "           ).set(title = 'Number of Words Per Category')"
   ]
  },
  {
   "cell_type": "code",
   "execution_count": 100,
   "id": "b6c9b2e4",
   "metadata": {},
   "outputs": [
    {
     "data": {
      "text/plain": [
       "Category\n",
       "business          505\n",
       "entertainment    1230\n",
       "politics         1638\n",
       "sport             911\n",
       "tech              829\n",
       "Name: num_words, dtype: int64"
      ]
     },
     "execution_count": 100,
     "metadata": {},
     "output_type": "execute_result"
    }
   ],
   "source": [
    "train.groupby('Category')['num_words'].max()"
   ]
  },
  {
   "cell_type": "markdown",
   "id": "891b962c",
   "metadata": {},
   "source": [
    "### 2. Building and Training Models"
   ]
  },
  {
   "cell_type": "markdown",
   "id": "7d762d4d",
   "metadata": {},
   "source": [
    "Transform each article to a feature vector. Use the TF-IDF (Term Frequency-Inverse Document Frequency) to capture the importance of words within a document and across the entire dataset, This will creates a document-term matrix where rows represent documents and columns represent unique words."
   ]
  },
  {
   "cell_type": "code",
   "execution_count": 101,
   "id": "1716856a",
   "metadata": {},
   "outputs": [],
   "source": [
    "# processing test dataset\n",
    "clean_text(test, 'Text')\n",
    "tokenize_lemmatize(test, 'clean_text')"
   ]
  },
  {
   "cell_type": "code",
   "execution_count": 102,
   "id": "48f4cc5a",
   "metadata": {},
   "outputs": [
    {
     "data": {
      "text/html": [
       "<div>\n",
       "<style scoped>\n",
       "    .dataframe tbody tr th:only-of-type {\n",
       "        vertical-align: middle;\n",
       "    }\n",
       "\n",
       "    .dataframe tbody tr th {\n",
       "        vertical-align: top;\n",
       "    }\n",
       "\n",
       "    .dataframe thead th {\n",
       "        text-align: right;\n",
       "    }\n",
       "</style>\n",
       "<table border=\"1\" class=\"dataframe\">\n",
       "  <thead>\n",
       "    <tr style=\"text-align: right;\">\n",
       "      <th></th>\n",
       "      <th>ArticleId</th>\n",
       "      <th>Text</th>\n",
       "      <th>no_punct</th>\n",
       "      <th>no_punct_num</th>\n",
       "      <th>no_stopwords</th>\n",
       "      <th>clean_text</th>\n",
       "      <th>tokenized</th>\n",
       "      <th>lemmatized</th>\n",
       "      <th>num_words</th>\n",
       "    </tr>\n",
       "  </thead>\n",
       "  <tbody>\n",
       "    <tr>\n",
       "      <th>0</th>\n",
       "      <td>1018</td>\n",
       "      <td>qpr keeper day heads for preston queens park r...</td>\n",
       "      <td>qpr keeper day heads for preston queens park r...</td>\n",
       "      <td>qpr keeper day heads for preston queens park r...</td>\n",
       "      <td>qpr keeper day heads preston queens park range...</td>\n",
       "      <td>qpr keeper day heads preston queens park range...</td>\n",
       "      <td>[qpr, keeper, day, heads, preston, queens, par...</td>\n",
       "      <td>[qpr, keeper, day, head, preston, queen, park,...</td>\n",
       "      <td>86</td>\n",
       "    </tr>\n",
       "    <tr>\n",
       "      <th>1</th>\n",
       "      <td>1319</td>\n",
       "      <td>software watching while you work software that...</td>\n",
       "      <td>software watching while you work software that...</td>\n",
       "      <td>software watching while you work software that...</td>\n",
       "      <td>software watching work software monitor every ...</td>\n",
       "      <td>software watching work software monitor every ...</td>\n",
       "      <td>[software, watching, work, software, monitor, ...</td>\n",
       "      <td>[software, watching, work, software, monitor, ...</td>\n",
       "      <td>232</td>\n",
       "    </tr>\n",
       "    <tr>\n",
       "      <th>2</th>\n",
       "      <td>1138</td>\n",
       "      <td>d arcy injury adds to ireland woe gordon d arc...</td>\n",
       "      <td>d arcy injury adds to ireland woe gordon d arc...</td>\n",
       "      <td>d arcy injury adds to ireland woe gordon d arc...</td>\n",
       "      <td>arcy injury adds ireland woe gordon arcy ruled...</td>\n",
       "      <td>arcy injury adds ireland woe gordon arcy ruled...</td>\n",
       "      <td>[arcy, injury, adds, ireland, woe, gordon, arc...</td>\n",
       "      <td>[arcy, injury, add, ireland, woe, gordon, arcy...</td>\n",
       "      <td>135</td>\n",
       "    </tr>\n",
       "    <tr>\n",
       "      <th>3</th>\n",
       "      <td>459</td>\n",
       "      <td>india s reliance family feud heats up the ongo...</td>\n",
       "      <td>india s reliance family feud heats up the ongo...</td>\n",
       "      <td>india s reliance family feud heats up the ongo...</td>\n",
       "      <td>india reliance family feud heats ongoing publi...</td>\n",
       "      <td>india reliance family feud heats ongoing publi...</td>\n",
       "      <td>[india, reliance, family, feud, heats, ongoing...</td>\n",
       "      <td>[india, reliance, family, feud, heat, ongoing,...</td>\n",
       "      <td>174</td>\n",
       "    </tr>\n",
       "    <tr>\n",
       "      <th>4</th>\n",
       "      <td>1020</td>\n",
       "      <td>boro suffer morrison injury blow middlesbrough...</td>\n",
       "      <td>boro suffer morrison injury blow middlesbrough...</td>\n",
       "      <td>boro suffer morrison injury blow middlesbrough...</td>\n",
       "      <td>boro suffer morrison injury blow middlesbrough...</td>\n",
       "      <td>boro suffer morrison injury blow middlesbrough...</td>\n",
       "      <td>[boro, suffer, morrison, injury, blow, middles...</td>\n",
       "      <td>[boro, suffer, morrison, injury, blow, middles...</td>\n",
       "      <td>71</td>\n",
       "    </tr>\n",
       "  </tbody>\n",
       "</table>\n",
       "</div>"
      ],
      "text/plain": [
       "   ArticleId                                               Text  \\\n",
       "0       1018  qpr keeper day heads for preston queens park r...   \n",
       "1       1319  software watching while you work software that...   \n",
       "2       1138  d arcy injury adds to ireland woe gordon d arc...   \n",
       "3        459  india s reliance family feud heats up the ongo...   \n",
       "4       1020  boro suffer morrison injury blow middlesbrough...   \n",
       "\n",
       "                                            no_punct  \\\n",
       "0  qpr keeper day heads for preston queens park r...   \n",
       "1  software watching while you work software that...   \n",
       "2  d arcy injury adds to ireland woe gordon d arc...   \n",
       "3  india s reliance family feud heats up the ongo...   \n",
       "4  boro suffer morrison injury blow middlesbrough...   \n",
       "\n",
       "                                        no_punct_num  \\\n",
       "0  qpr keeper day heads for preston queens park r...   \n",
       "1  software watching while you work software that...   \n",
       "2  d arcy injury adds to ireland woe gordon d arc...   \n",
       "3  india s reliance family feud heats up the ongo...   \n",
       "4  boro suffer morrison injury blow middlesbrough...   \n",
       "\n",
       "                                        no_stopwords  \\\n",
       "0  qpr keeper day heads preston queens park range...   \n",
       "1  software watching work software monitor every ...   \n",
       "2  arcy injury adds ireland woe gordon arcy ruled...   \n",
       "3  india reliance family feud heats ongoing publi...   \n",
       "4  boro suffer morrison injury blow middlesbrough...   \n",
       "\n",
       "                                          clean_text  \\\n",
       "0  qpr keeper day heads preston queens park range...   \n",
       "1  software watching work software monitor every ...   \n",
       "2  arcy injury adds ireland woe gordon arcy ruled...   \n",
       "3  india reliance family feud heats ongoing publi...   \n",
       "4  boro suffer morrison injury blow middlesbrough...   \n",
       "\n",
       "                                           tokenized  \\\n",
       "0  [qpr, keeper, day, heads, preston, queens, par...   \n",
       "1  [software, watching, work, software, monitor, ...   \n",
       "2  [arcy, injury, adds, ireland, woe, gordon, arc...   \n",
       "3  [india, reliance, family, feud, heats, ongoing...   \n",
       "4  [boro, suffer, morrison, injury, blow, middles...   \n",
       "\n",
       "                                          lemmatized  num_words  \n",
       "0  [qpr, keeper, day, head, preston, queen, park,...         86  \n",
       "1  [software, watching, work, software, monitor, ...        232  \n",
       "2  [arcy, injury, add, ireland, woe, gordon, arcy...        135  \n",
       "3  [india, reliance, family, feud, heat, ongoing,...        174  \n",
       "4  [boro, suffer, morrison, injury, blow, middles...         71  "
      ]
     },
     "execution_count": 102,
     "metadata": {},
     "output_type": "execute_result"
    }
   ],
   "source": [
    "test.head()"
   ]
  },
  {
   "cell_type": "code",
   "execution_count": 103,
   "id": "7e6e4982",
   "metadata": {},
   "outputs": [],
   "source": [
    "# create vectorizer\n",
    "tfidvec = TfidfVectorizer(min_df = 2,\n",
    "                          max_df = 0.95,\n",
    "                          norm = 'l2',\n",
    "                          stop_words = 'english')\n",
    "tfidvec.fit(train['clean_text'])\n",
    "tfidvec_train = tfidvec.transform(train['clean_text'])\n",
    "tfidvec_test = tfidvec.transform(test['clean_text'])"
   ]
  },
  {
   "cell_type": "code",
   "execution_count": 104,
   "id": "cb869c59",
   "metadata": {},
   "outputs": [
    {
     "name": "stdout",
     "output_type": "stream",
     "text": [
      "train_shape (1490, 13971)\n",
      "test_shape (735, 13971)\n"
     ]
    }
   ],
   "source": [
    "print('train_shape', tfidvec_train.shape)\n",
    "print('test_shape', tfidvec_test.shape)"
   ]
  },
  {
   "cell_type": "markdown",
   "id": "95e71584",
   "metadata": {},
   "source": [
    "#### Non-Negative Matrix Factorization (NMF)"
   ]
  },
  {
   "cell_type": "markdown",
   "id": "357b7a97",
   "metadata": {},
   "source": [
    "Apply NMF to the document-term matrix. NMF decomposes the matrix into two lower-dimensional matrices:\n",
    "* W (n_samples * n_components): A document-topic matrix, where each row represents a document and each column represents a topic. The values in this matrix indicate the weights (or contributions) of each topic to a particular document.\n",
    "* H (n_components * n_features): A topic-term matrix, where each row reprents a topic and each column rpresents a word. The values in this matrix indicate the importance of each word for describing a particular topic."
   ]
  },
  {
   "cell_type": "code",
   "execution_count": 105,
   "id": "56559cc7",
   "metadata": {},
   "outputs": [
    {
     "name": "stdout",
     "output_type": "stream",
     "text": [
      "Shape of doc-topic mat: \n",
      " (1490, 5)\n",
      "Shape of doc-topic mat: \n",
      " (5, 13971)\n",
      "[0.         0.03577532 0.00559371 0.00144951 0.06162621]\n"
     ]
    }
   ],
   "source": [
    "num_cat = 5\n",
    "nmf_model = NMF(n_components = num_cat, random_state = 7)\n",
    "nmf_model.fit(tfidvec_train)\n",
    "w_mat = nmf_model.transform(tfidvec_train)\n",
    "print('Shape of doc-topic mat:','\\n',w_mat.shape)\n",
    "h_mat = nmf_model.components_\n",
    "print('Shape of doc-topic mat:','\\n',h_mat.shape)\n",
    "print(w_mat[0])"
   ]
  },
  {
   "cell_type": "markdown",
   "id": "f3c5931f",
   "metadata": {},
   "source": [
    "Document with highest value in a specific column of W is most relevant to that particular topic. Use argmax() to identify the topic of each article."
   ]
  },
  {
   "cell_type": "code",
   "execution_count": 106,
   "id": "1282a446",
   "metadata": {},
   "outputs": [],
   "source": [
    "nmf_predictions = w_mat.argmax(axis = 1)"
   ]
  },
  {
   "cell_type": "markdown",
   "id": "140e6f09",
   "metadata": {},
   "source": [
    "#### Label Permutation"
   ]
  },
  {
   "cell_type": "markdown",
   "id": "f042dd0a",
   "metadata": {},
   "source": [
    "The predicted label based on index ranging from 0 to 4 so the label does not match with five categories (e.g. sport, tech, business, entertainment and politics). Write a helper function to find best matching label ordering based on accuracy."
   ]
  },
  {
   "cell_type": "code",
   "execution_count": 107,
   "id": "7666997b",
   "metadata": {},
   "outputs": [],
   "source": [
    "def label_permute_compare(ytdf, yp,n):\n",
    "    \"\"\"\n",
    "    ytdf: labels dataframe object\n",
    "    yp: clustering label prediction output\n",
    "    n: the number of classes\n",
    "    Returns label dictionary, permuted label order and accuracy. \n",
    "    Example output: {'business': 4, 'tech' : 2...}, (3, 4, 1, 2, 0), 0.74 \n",
    "    \"\"\"\n",
    "    # your code here\n",
    "    df_labels = np.unique(ytdf).tolist() # the true labels\n",
    "    p_labels = np.unique(yp).tolist() # the random labels from prediction\n",
    "\n",
    "    # generate all possible permutations of predicted labels\n",
    "    # {'business': 4, 'tech' : 2...}\n",
    "    dict_perm_lst = []\n",
    "    for perm in itertools.permutations(list(range(n))):\n",
    "        dict_perm_lst.append(dict(zip(df_labels, perm))) \n",
    "\n",
    "    # find the mapping yielding best accuracy\n",
    "    best_acc = 0\n",
    "    labelorder = []\n",
    "    for dict_perm in dict_perm_lst:\n",
    "        yt_mapped = []\n",
    "        for elt in ytdf:\n",
    "            yt_mapped.append(dict_perm[elt])\n",
    "        acc = accuracy_score(yt_mapped, yp)\n",
    "        if acc > best_acc:\n",
    "            best_acc = acc\n",
    "            labelorder = list(dict_perm.values())\n",
    "            labeldict = dict_perm\n",
    "\n",
    "    return labeldict, labelorder, best_acc"
   ]
  },
  {
   "cell_type": "code",
   "execution_count": 108,
   "id": "ff191099",
   "metadata": {},
   "outputs": [
    {
     "name": "stdout",
     "output_type": "stream",
     "text": [
      "Accuracy:  0.9167785234899329\n",
      "Label dictionary: {'business': 4, 'entertainment': 3, 'politics': 1, 'sport': 0, 'tech': 2}\n"
     ]
    }
   ],
   "source": [
    "labeldict, labelorder, best_acc = label_permute_compare(train['Category'], nmf_predictions, n = num_cat)\n",
    "print('Accuracy: ', best_acc)\n",
    "print('Label dictionary:', labeldict)"
   ]
  },
  {
   "cell_type": "markdown",
   "id": "f06e037b",
   "metadata": {},
   "source": [
    "#### Hyperparameter Tuning (NMF)"
   ]
  },
  {
   "cell_type": "markdown",
   "id": "0411b662",
   "metadata": {},
   "source": [
    "After playing around with solver and beta_loss in NMF. The following combination yields best accuracy"
   ]
  },
  {
   "cell_type": "code",
   "execution_count": 109,
   "id": "e41bb9f8",
   "metadata": {},
   "outputs": [
    {
     "name": "stdout",
     "output_type": "stream",
     "text": [
      "Accuracy:  0.9604026845637584\n",
      "Label dictionary: {'business': 4, 'entertainment': 3, 'politics': 1, 'sport': 0, 'tech': 2}\n"
     ]
    }
   ],
   "source": [
    "nmf_model = NMF(n_components = num_cat, init='nndsvda', solver = 'mu', beta_loss = 'kullback-leibler', random_state = 7)\n",
    "nmf_model.fit(tfidvec_train)\n",
    "w_mat = nmf_model.transform(tfidvec_train)\n",
    "h_mat = nmf_model.components_\n",
    "nmf_predictions = w_mat.argmax(axis = 1)\n",
    "nmf_labeldict, nmf_labelorder, nmf_best_acc = label_permute_compare(train['Category'], nmf_predictions, n = num_cat)\n",
    "print('Accuracy: ', nmf_best_acc)\n",
    "print('Label dictionary:', nmf_labeldict)"
   ]
  },
  {
   "cell_type": "code",
   "execution_count": 110,
   "id": "46a6e28e",
   "metadata": {},
   "outputs": [
    {
     "name": "stdout",
     "output_type": "stream",
     "text": [
      "{0: 'sport', 1: 'politics', 2: 'tech', 3: 'entertainment', 4: 'business'}\n"
     ]
    },
    {
     "data": {
      "text/plain": [
       "Text(95.72222222222221, 0.5, 'True Labels')"
      ]
     },
     "execution_count": 110,
     "metadata": {},
     "output_type": "execute_result"
    },
    {
     "data": {
      "image/png": "[encoded data removed]",
      "text/plain": [
       "<Figure size 1000x800 with 2 Axes>"
      ]
     },
     "metadata": {},
     "output_type": "display_data"
    }
   ],
   "source": [
    "# Confusion Matrix\n",
    "rev_labeldict = {}\n",
    "for i in range(num_cat):\n",
    "    category = [key for key in labeldict if labeldict[key] == i]\n",
    "    rev_labeldict[i] = category[0]\n",
    "print(rev_labeldict)\n",
    "\n",
    "pred_label = [rev_labeldict[label] for label in nmf_predictions]\n",
    "\n",
    "plt.figure(figsize=(10, 8))\n",
    "sns.heatmap(confusion_matrix(train.Category, pred_label), \n",
    "            annot=True, fmt='d', cmap='Blues', \n",
    "            xticklabels=labeldict.keys(), yticklabels=labeldict.keys())\n",
    "plt.title('Confusion Matrix: True Labels vs. Predicted Topics')\n",
    "plt.xlabel('Predicted Topics')\n",
    "plt.ylabel('True Labels')"
   ]
  },
  {
   "cell_type": "markdown",
   "id": "a36eef86",
   "metadata": {},
   "source": [
    "#### Use the NMF model above to predict test data"
   ]
  },
  {
   "cell_type": "code",
   "execution_count": 111,
   "id": "57a99278",
   "metadata": {},
   "outputs": [
    {
     "name": "stdout",
     "output_type": "stream",
     "text": [
      "Accuracy based on Kaggle submission is 0.9605 using NMF\n"
     ]
    }
   ],
   "source": [
    "test_w_mat = nmf_model.transform(tfidvec_test)\n",
    "# test_h_mat = nmf_model.components_\n",
    "test_nmf_predictions = test_w_mat.argmax(axis = 1)\n",
    "test_pred_label = [rev_labeldict[label] for label in test_nmf_predictions]\n",
    "test_preds = pd.DataFrame(columns=[\"ArticleId\", \"Category\"])\n",
    "test_preds[\"ArticleId\"] = test.ArticleId\n",
    "test_preds[\"Category\"] = test_pred_label\n",
    "test_preds.to_csv(\"submission.csv\", index=False)\n",
    "print('Accuracy based on Kaggle submission is 0.9605 using NMF')"
   ]
  },
  {
   "cell_type": "markdown",
   "id": "97bb3f2b",
   "metadata": {},
   "source": [
    "#### Truncated SVD"
   ]
  },
  {
   "cell_type": "markdown",
   "id": "f8a87d42",
   "metadata": {},
   "source": [
    "Use single value decomposition (SVD). I tried tuning hyperparameters and the following combination yields best accuracy. "
   ]
  },
  {
   "cell_type": "code",
   "execution_count": 112,
   "id": "878b928a",
   "metadata": {},
   "outputs": [
    {
     "name": "stdout",
     "output_type": "stream",
     "text": [
      "VT: (5, 13971)\n",
      "S:  [6.17255715 4.06640783 3.67458557 3.50128516 3.34951605]\n",
      "U:  (1490, 5)\n"
     ]
    }
   ],
   "source": [
    "tsvd = TruncatedSVD(n_components = num_cat, algorithm = 'randomized', random_state = 7).fit(tfidvec_train)\n",
    "X_transformed = tsvd.transform(tfidvec_train)\n",
    "Vt = tsvd.components_\n",
    "S = tsvd.singular_values_\n",
    "U = X_transformed / S\n",
    "print('VT:', Vt.shape)\n",
    "print('S: ', S)\n",
    "print('U: ', U.shape)"
   ]
  },
  {
   "cell_type": "code",
   "execution_count": 114,
   "id": "6356bea6",
   "metadata": {},
   "outputs": [
    {
     "name": "stdout",
     "output_type": "stream",
     "text": [
      "Accuracy:  0.661744966442953\n",
      "Label dictionary: {'business': 4, 'entertainment': 3, 'politics': 1, 'sport': 2, 'tech': 0}\n"
     ]
    }
   ],
   "source": [
    "svd_predictions = U.argmax(axis = 1)\n",
    "svd_labeldict, svd_labelorder, svd_best_acc = label_permute_compare(train['Category'], svd_predictions, n = num_cat)\n",
    "print('Accuracy: ', svd_best_acc)\n",
    "print('Label dictionary:', svd_labeldict)"
   ]
  },
  {
   "cell_type": "markdown",
   "id": "d4c64b01",
   "metadata": {},
   "source": [
    "Comparing with NMF, single value decomposition has much lower accuracy becasue it mislabeled categories of sprots and tech."
   ]
  },
  {
   "cell_type": "markdown",
   "id": "f9de33e3",
   "metadata": {},
   "source": [
    "### 3. Comparison with Supervised Learning"
   ]
  },
  {
   "cell_type": "markdown",
   "id": "d9ea252c",
   "metadata": {},
   "source": [
    "Typically, supervised learning yields good performance for classification problem. It's interesting to compare the accuracy of matrix factorization model with that of supervised learning model. I will use Logistic Regression and Random Forest as the benchmarks."
   ]
  },
  {
   "cell_type": "markdown",
   "id": "09dadee4",
   "metadata": {},
   "source": [
    "#### Logistic Regression"
   ]
  },
  {
   "cell_type": "code",
   "execution_count": 116,
   "id": "55e3d443",
   "metadata": {},
   "outputs": [
    {
     "name": "stdout",
     "output_type": "stream",
     "text": [
      "0.9966442953020134\n"
     ]
    }
   ],
   "source": [
    "# LogisticRegression\n",
    "clf = LogisticRegression(random_state=7).fit(tfidvec_train, train['Category'])\n",
    "clf_predicitons = clf.predict(tfidvec_train)\n",
    "print(clf.score(tfidvec_train, train['Category']))"
   ]
  },
  {
   "cell_type": "code",
   "execution_count": 117,
   "id": "e365d782",
   "metadata": {},
   "outputs": [],
   "source": [
    "# preprocessing test dataset\n",
    "test = pd.read_csv('BBC News Test.csv')\n",
    "sample_solution = pd.read_csv('BBC News Sample Solution.csv')\n",
    "clean_text(test, 'Text')\n",
    "tokenize_lemmatize(test, 'clean_text')"
   ]
  },
  {
   "cell_type": "code",
   "execution_count": 118,
   "id": "4399f96a",
   "metadata": {},
   "outputs": [
    {
     "name": "stdout",
     "output_type": "stream",
     "text": [
      "Accuracy based on Kaggle submission is 0.978 using logistic regression\n"
     ]
    }
   ],
   "source": [
    "clf_predicitons = clf.predict(tfidvec_test)\n",
    "test_preds = pd.DataFrame(columns=[\"ArticleId\", \"Category\"])\n",
    "test_preds[\"ArticleId\"] = test.ArticleId\n",
    "test_preds[\"Category\"] = clf_predicitons\n",
    "test_preds.to_csv(\"submission_LG.csv\", index=False)\n",
    "print('Accuracy based on Kaggle submission is 0.978 using logistic regression')"
   ]
  },
  {
   "cell_type": "markdown",
   "id": "995d5540",
   "metadata": {},
   "source": [
    "The Logistic Regression has higher accuracy then NMF model on both training and testing data."
   ]
  },
  {
   "cell_type": "markdown",
   "id": "7c8cb16f",
   "metadata": {},
   "source": [
    "#### Random Forest"
   ]
  },
  {
   "cell_type": "code",
   "execution_count": 131,
   "id": "b5be0bcf",
   "metadata": {},
   "outputs": [
    {
     "name": "stdout",
     "output_type": "stream",
     "text": [
      "1.0\n"
     ]
    }
   ],
   "source": [
    "rf_model = RandomForestClassifier(n_estimators = 200, max_features = 'sqrt', random_state = 7)\n",
    "rf_model.fit(tfidvec_train, train['Category'])\n",
    "rf_predictions = rf_model.predict(tfidvec_train)\n",
    "print(rf_model.score(tfidvec_train, train['Category']))"
   ]
  },
  {
   "cell_type": "code",
   "execution_count": 133,
   "id": "87d87e48",
   "metadata": {},
   "outputs": [
    {
     "name": "stdout",
     "output_type": "stream",
     "text": [
      "Accuracy based on Kaggle submission is 0.967 using logistic regression\n"
     ]
    }
   ],
   "source": [
    "rf_predictions = rf_model.predict(tfidvec_test)\n",
    "test_preds = pd.DataFrame(columns=[\"ArticleId\", \"Category\"])\n",
    "test_preds[\"ArticleId\"] = test.ArticleId\n",
    "test_preds[\"Category\"] = rf_predictions\n",
    "test_preds.to_csv(\"submission_RF.csv\", index=False)\n",
    "print('Accuracy based on Kaggle submission is 0.967 using logistic regression')"
   ]
  },
  {
   "cell_type": "markdown",
   "id": "d18610e6",
   "metadata": {},
   "source": [
    "The Random Forest also has higher accuracy then NMF model on both training and testing data but not as good as Logistic Regression."
   ]
  },
  {
   "cell_type": "code",
   "execution_count": null,
   "id": "e3b8d828",
   "metadata": {},
   "outputs": [],
   "source": []
  }
 ],
 "metadata": {
  "kernelspec": {
   "display_name": "spyder-cf",
   "language": "python",
   "name": "spyder-cf"
  },
  "language_info": {
   "codemirror_mode": {
    "name": "ipython",
    "version": 3
   },
   "file_extension": ".py",
   "mimetype": "text/x-python",
   "name": "python",
   "nbconvert_exporter": "python",
   "pygments_lexer": "ipython3",
   "version": "3.12.6"
  }
 },
 "nbformat": 4,
 "nbformat_minor": 5
}
